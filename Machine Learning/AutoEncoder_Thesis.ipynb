{
  "nbformat": 4,
  "nbformat_minor": 0,
  "metadata": {
    "colab": {
      "name": "AutoEncoder_trial3.ipynb",
      "provenance": [],
      "collapsed_sections": [],
      "toc_visible": true
    },
    "kernelspec": {
      "display_name": "Python 3",
      "name": "python3"
    }
  },
  "cells": [
    {
      "cell_type": "markdown",
      "metadata": {
        "id": "JEzXJS81tSQ9"
      },
      "source": [
        "# Importeren van nodige libraries"
      ]
    },
    {
      "cell_type": "code",
      "metadata": {
        "id": "GSIllWDM8Osw"
      },
      "source": [
        "import numpy as np\n",
        "import tensorflow as tf\n",
        "import keras\n",
        "from math import *\n",
        "from sklearn.model_selection import train_test_split\n",
        "from keras.models import Model\n",
        "from keras.layers import LSTM, Dense, Masking, RepeatVector, TimeDistributed, Input, Concatenate, Bidirectional, Dropout\n",
        "from keras.utils import plot_model\n",
        "from keras.regularizers import l2\n",
        "import matplotlib.pyplot as plt"
      ],
      "execution_count": 1,
      "outputs": []
    },
    {
      "cell_type": "markdown",
      "metadata": {
        "id": "kar3ovEltcF_"
      },
      "source": [
        "# Preprocessing van de data"
      ]
    },
    {
      "cell_type": "markdown",
      "metadata": {
        "id": "Nk-1FQLbtlbm"
      },
      "source": [
        "In onderstaande cel wordt de data van NMBS verwerkt. Deze data komt uit een csv file waarin de planningen reeds omgevormd zijn naar de input-vectoren (one-hot-encoded). De planningen worden in een dictionary gestoken met als key depotName_reeksName zodat de planningen later op een eerlijke manier kunnen verdeeld worden over de test-, validatie-, en traingsset."
      ]
    },
    {
      "cell_type": "code",
      "metadata": {
        "id": "f0aalyfF8Ttm"
      },
      "source": [
        "depots = {}\n",
        "\n",
        "lines = []\n",
        "with open(\"dataNMBS.csv\") as file:\n",
        "    for line in file:\n",
        "        lines.append(line)\n",
        "\n",
        "data = []\n",
        "for line in lines:\n",
        "    line = line.split(',')\n",
        "\n",
        "    line.pop()\n",
        "\n",
        "    depot = line[1] + \"_\" + line[2]\n",
        "    if not (depot in depots.keys()):\n",
        "      depots[depot] = []\n",
        "\n",
        "    temp = []\n",
        "    for i in range(3, len(line)):\n",
        "        repr = line[i]\n",
        "        temp_2 = []\n",
        "        repr = repr[1:]\n",
        "        for char in repr:\n",
        "            temp_2.append(int(char))\n",
        "        temp.append(temp_2)\n",
        "    data.append(temp)\n",
        "    depots[depot].append(temp)"
      ],
      "execution_count": 9,
      "outputs": []
    },
    {
      "cell_type": "markdown",
      "metadata": {
        "id": "-epJCUYBuRsj"
      },
      "source": [
        "De grootste planning wordt gezocht zodat alle planningen daarna tot deze grootte opgevuld kunnen worden met -1 vectoren (later worden deze door een mask-value genegeerd door het netwerk)."
      ]
    },
    {
      "cell_type": "code",
      "metadata": {
        "colab": {
          "base_uri": "https://localhost:8080/"
        },
        "id": "5_yL-r9O-bUU",
        "outputId": "8664f6f7-80a9-4408-9c54-9523fa30c274"
      },
      "source": [
        "max_length = 0\n",
        "count = 0\n",
        "for planning in data:\n",
        "    if(len(planning) > max_length):\n",
        "        max_length = len(planning)\n",
        "    count = count + 1\n",
        "\n",
        "print(\"MAX LENGTH: \"+ str(max_length))\n",
        "print(\"COUNT: \" + str(count))"
      ],
      "execution_count": 10,
      "outputs": [
        {
          "output_type": "stream",
          "text": [
            "MAX LENGTH: 322\n",
            "COUNT: 10953\n"
          ],
          "name": "stdout"
        }
      ]
    },
    {
      "cell_type": "markdown",
      "metadata": {
        "id": "XbNg3Qn3u2VH"
      },
      "source": [
        "Alle planningen krijgen padding met -1 vectoren zodat ze allemaal dezelfde lengte hebben."
      ]
    },
    {
      "cell_type": "code",
      "metadata": {
        "id": "3WgwZrVjm5br"
      },
      "source": [
        "planning = tf.keras.preprocessing.sequence.pad_sequences(\n",
        "    data, padding=\"post\", value=-1.0, dtype='float32'\n",
        ")\n",
        "\n",
        "for key in depots.keys():\n",
        "  depots[key] = tf.keras.preprocessing.sequence.pad_sequences(\n",
        "      depots[key], padding=\"post\", value=-1.0, dtype='float32', maxlen = max_length\n",
        "  )"
      ],
      "execution_count": 11,
      "outputs": []
    },
    {
      "cell_type": "markdown",
      "metadata": {
        "id": "bju5piMgvUhW"
      },
      "source": [
        "Hier wordt een zicht verkregen op de verschillende shapes. De parameters voor de klassieke N x T x D matrix worden bepaald."
      ]
    },
    {
      "cell_type": "code",
      "metadata": {
        "colab": {
          "base_uri": "https://localhost:8080/"
        },
        "id": "LGOTNIaJoSDf",
        "outputId": "7a061583-59d5-4fec-dd9c-ba8ceda57135"
      },
      "source": [
        "data_NMBS = np.array(planning)\n",
        "print(\"\")\n",
        "print(\"DIMENSIONS - ARRAY: \" + str(data_NMBS.ndim))\n",
        "print(\"AMOUNT OF SCHEDULES: \" + str(len(data_NMBS)))\n",
        "print(\"SHAPE - ARRAY: \" + str(data_NMBS.shape))"
      ],
      "execution_count": 12,
      "outputs": [
        {
          "output_type": "stream",
          "text": [
            "\n",
            "DIMENSIONS - ARRAY: 3\n",
            "AMOUNT OF SCHEDULES: 10953\n",
            "SHAPE - ARRAY: (10953, 322, 7)\n"
          ],
          "name": "stdout"
        }
      ]
    },
    {
      "cell_type": "code",
      "metadata": {
        "colab": {
          "base_uri": "https://localhost:8080/"
        },
        "id": "VGAu1mbYoVu6",
        "outputId": "9945098b-be5e-433c-e476-dc9b0dead51e"
      },
      "source": [
        "samples = data_NMBS.shape[0]\n",
        "timesteps = int(data_NMBS.shape[1])\n",
        "features = data_NMBS.shape[2]\n",
        "print(\"\")\n",
        "print(\"SAMPLES - RNN: \" + str(samples))\n",
        "print(\"TIMESTAMPS - RNN: \" + str(timesteps))\n",
        "print(\"FEATURES - RNN: \" + str(features))"
      ],
      "execution_count": 13,
      "outputs": [
        {
          "output_type": "stream",
          "text": [
            "\n",
            "SAMPLES - RNN: 10953\n",
            "TIMESTAMPS - RNN: 322\n",
            "FEATURES - RNN: 7\n"
          ],
          "name": "stdout"
        }
      ]
    },
    {
      "cell_type": "markdown",
      "metadata": {
        "id": "wYTmel_svf1j"
      },
      "source": [
        "Het aantal epochs wordt gekozen."
      ]
    },
    {
      "cell_type": "code",
      "metadata": {
        "colab": {
          "base_uri": "https://localhost:8080/"
        },
        "id": "f0ikp7gVpuSC",
        "outputId": "e84c4f67-f230-4acf-cb0f-47689cd96372"
      },
      "source": [
        "epochs_d = input(\"Epochs = \")"
      ],
      "execution_count": 14,
      "outputs": [
        {
          "output_type": "stream",
          "text": [
            "Epochs = 10\n"
          ],
          "name": "stdout"
        }
      ]
    },
    {
      "cell_type": "markdown",
      "metadata": {
        "id": "5l9UzwA7vtyi"
      },
      "source": [
        "# Verdeling test-, validatie-, training-set"
      ]
    },
    {
      "cell_type": "markdown",
      "metadata": {
        "id": "b9zOB5w4vzib"
      },
      "source": [
        "Alle verschillende planningen worden met een bepaalde distributie verdeeld over de test-, validatie- en trainging-set. Zoals beschreven in de tekst gebeurt dit niet op de klassieke manier omdat planningen over de jaren heen binnen hetzelfde depot sterk op elkaar gelijken. Om een eerlijke steekproef te verkrijgen moeten deze altijd samen zitten.\n",
        "\n",
        "De verdeling gebeurt in onderstaande cel 4 keer, dit was louter voor de cross-validation correct uit te voeren."
      ]
    },
    {
      "cell_type": "code",
      "metadata": {
        "colab": {
          "base_uri": "https://localhost:8080/"
        },
        "id": "44lD2Y1XrdkW",
        "outputId": "f5bbb965-e516-4d36-b654-7749f83488eb"
      },
      "source": [
        "import random\n",
        "\n",
        "print(len(depots.keys()))\n",
        "\n",
        "keys = list(depots.keys())\n",
        "\n",
        "list_of_depots_indices = []\n",
        "already_used_indices = []\n",
        "\n",
        "X_val_001 = []\n",
        "X_val_002 = []\n",
        "X_val_003 = []\n",
        "X_val_004 = []\n",
        "\n",
        "val_001_indices = []\n",
        "val_002_indices = []\n",
        "val_003_indices = []\n",
        "val_004_indices = []\n",
        "\n",
        "X_train_001 = []\n",
        "X_train_002 = []\n",
        "X_train_003 = []\n",
        "X_train_004 = []\n",
        "\n",
        "for i in range(0, len(depots.keys())):\n",
        "  list_of_depots_indices.append(i)\n",
        "\n",
        "\n",
        "# ROUND 1\n",
        "count = 0\n",
        "while count != 25:\n",
        "\n",
        "  random_index = random.randint(0, (len(depots.keys()) - 1))\n",
        "  \n",
        "  if random_index in already_used_indices: continue\n",
        "\n",
        "  for planning in depots[keys[random_index]]:\n",
        "    X_val_001.append(planning)\n",
        "  \n",
        "  already_used_indices.append(random_index)\n",
        "  val_001_indices.append(random_index)\n",
        "  count = count + 1\n",
        "\n",
        "\n",
        "for i in range(0, len(depots.keys())):\n",
        "  \n",
        "  if i in val_001_indices: continue\n",
        "\n",
        "  for planning in depots[keys[i]]:\n",
        "    X_train_001.append(planning)\n",
        "\n",
        "\n",
        "# ROUND 2\n",
        "count = 0\n",
        "while count != 31:\n",
        "\n",
        "  random_index = random.randint(0, (len(depots.keys()) - 1))\n",
        "  \n",
        "  if random_index in already_used_indices: continue\n",
        "\n",
        "  for planning in depots[keys[random_index]]:\n",
        "    X_val_002.append(planning)\n",
        "  \n",
        "  already_used_indices.append(random_index)\n",
        "  val_002_indices.append(random_index)\n",
        "  count = count + 1\n",
        "\n",
        "\n",
        "for i in range(0, len(depots.keys())):\n",
        "  \n",
        "  if i in val_002_indices: continue\n",
        "\n",
        "  for planning in depots[keys[i]]:\n",
        "    X_train_002.append(planning)\n",
        "\n",
        "\n",
        "# ROUND 3\n",
        "count = 0\n",
        "while count != 31:\n",
        "\n",
        "  random_index = random.randint(0, (len(depots.keys()) - 1))\n",
        "  \n",
        "  if random_index in already_used_indices: continue\n",
        "\n",
        "  for planning in depots[keys[random_index]]:\n",
        "    X_val_003.append(planning)\n",
        "  \n",
        "  already_used_indices.append(random_index)\n",
        "  val_003_indices.append(random_index)\n",
        "  count = count + 1\n",
        "  \n",
        "\n",
        "for i in range(0, len(depots.keys())):\n",
        "  \n",
        "  if i in val_003_indices: continue\n",
        "\n",
        "  for planning in depots[keys[i]]:\n",
        "    X_train_003.append(planning)\n",
        "\n",
        "\n",
        "# ROUND 4\n",
        "count = 0\n",
        "for i in range(0, len(depots.keys())):\n",
        "  \n",
        "  if i in already_used_indices: continue\n",
        "\n",
        "  for planning in depots[keys[i]]:\n",
        "    X_val_004.append(planning)\n",
        "  \n",
        "  already_used_indices.append(i)\n",
        "  val_004_indices.append(i)\n",
        "  count = count + 1\n",
        "\n",
        "for i in range(0, len(depots.keys())):\n",
        "  \n",
        "  if i in val_004_indices: continue\n",
        "\n",
        "  for planning in depots[keys[i]]:\n",
        "    X_train_004.append(planning)\n",
        "\n",
        "\n",
        "X_val_001 = np.array(X_val_001)\n",
        "X_val_002 = np.array(X_val_002)\n",
        "X_val_003 = np.array(X_val_003)\n",
        "X_val_004 = np.array(X_val_004)\n",
        "\n",
        "X_train_001 = np.array(X_train_001)\n",
        "X_train_002 = np.array(X_train_002)\n",
        "X_train_003 = np.array(X_train_003)\n",
        "X_train_004 = np.array(X_train_004)\n",
        "\n",
        "print(X_val_001.shape)\n",
        "print(X_train_001.shape)"
      ],
      "execution_count": 15,
      "outputs": [
        {
          "output_type": "stream",
          "text": [
            "123\n",
            "(2209, 322, 7)\n",
            "(8744, 322, 7)\n"
          ],
          "name": "stdout"
        }
      ]
    },
    {
      "cell_type": "code",
      "metadata": {
        "id": "2iMhGCCt2o23"
      },
      "source": [
        "X_train = X_train_001\n",
        "X_test = X_val_001\n",
        "X_val = X_val_001"
      ],
      "execution_count": 16,
      "outputs": []
    },
    {
      "cell_type": "markdown",
      "metadata": {
        "id": "vIFVSfaOwXxS"
      },
      "source": [
        "De gewichten worden gekozen. Thuis-dagen en overgangsdagen krijgen een hoger gewicht omdat een prestatie reeds 4 flags in neemt en vooral bij deze dagen fouten werden gemaakt. Voor de zekerheid wordt het gewicht van de -1 vectoren ook nog eens op 0 gezet zodat deze zeker niet meetelt."
      ]
    },
    {
      "cell_type": "code",
      "metadata": {
        "colab": {
          "base_uri": "https://localhost:8080/"
        },
        "id": "C6j2T2uGArF6",
        "outputId": "67531e3a-6774-4452-f098-eb5ebf877bee"
      },
      "source": [
        "weigth_matrix = []\n",
        "for planning in X_train:\n",
        "  weigth_row = []\n",
        "  for timestamp in planning:\n",
        "    if -1.0 in timestamp:\n",
        "      weigth_row.append(0)\n",
        "    else:\n",
        "      # weigth_row.append(1)\n",
        "\n",
        "      # KAN GEBRUIKT WORDEN VOOR OVERGANGEN HOGER GEWICHT TE GEVEN\n",
        "      if (timestamp[5] == 1 or timestamp[4] == 1):\n",
        "        weigth_row.append(2)\n",
        "      else:\n",
        "        weigth_row.append(1)\n",
        "\n",
        "  weigth_matrix.append(weigth_row)\n",
        "\n",
        "weigth_matrix = np.array(weigth_matrix)\n",
        "print(len(X_train))\n",
        "print(str(weigth_matrix.shape))\n",
        "weigth_matrix = tf.convert_to_tensor(weigth_matrix)\n",
        "\n",
        "val_weight_matrix = []\n",
        "for planning in X_val:\n",
        "  weigth_row_val = []\n",
        "  for timestamp in planning:\n",
        "    if -1.0 in timestamp:\n",
        "      weigth_row_val.append(0)\n",
        "    else:\n",
        "      \n",
        "      # KAN GEBRUIKT WORDEN VOOR OVERGANGEN HOGER GEWICHT TE GEVEN\n",
        "      if (timestamp[5] == 1 or timestamp[4] == 1):\n",
        "        weigth_row_val.append(2)\n",
        "      else:\n",
        "        weigth_row_val.append(1)\n",
        "\n",
        "  val_weight_matrix.append(weigth_row_val)\n",
        "\n",
        "val_weight_matrix = np.array(val_weight_matrix)\n",
        "val_weight_matrix = tf.convert_to_tensor(val_weight_matrix)"
      ],
      "execution_count": 17,
      "outputs": [
        {
          "output_type": "stream",
          "text": [
            "8744\n",
            "(8744, 322)\n"
          ],
          "name": "stdout"
        }
      ]
    },
    {
      "cell_type": "markdown",
      "metadata": {
        "id": "iwZ228unwxQc"
      },
      "source": [
        "# Definiëren van het model"
      ]
    },
    {
      "cell_type": "code",
      "metadata": {
        "colab": {
          "base_uri": "https://localhost:8080/"
        },
        "id": "PLCyvJdQpz43",
        "outputId": "9aa1c495-0c78-43d6-8a37-ab80e625e91b"
      },
      "source": [
        "# Create a MirroredStrategy - louter voor met de GPU te kunnen werken. (= sneller trainen)\n",
        "strategy = tf.distribute.MirroredStrategy()\n",
        "print('Number of devices: {}'.format(strategy.num_replicas_in_sync))"
      ],
      "execution_count": 2,
      "outputs": [
        {
          "output_type": "stream",
          "text": [
            "WARNING:tensorflow:There are non-GPU devices in `tf.distribute.Strategy`, not using nccl allreduce.\n",
            "INFO:tensorflow:Using MirroredStrategy with devices ('/job:localhost/replica:0/task:0/device:CPU:0',)\n",
            "Number of devices: 1\n"
          ],
          "name": "stdout"
        }
      ]
    },
    {
      "cell_type": "markdown",
      "metadata": {
        "id": "H9DZRB2uw8DB"
      },
      "source": [
        "In deze cel wordt een eigen layer gedefinieerd. Het komt uiteindelijk neer op een Bidirection(LSTM) layer en RepeatVector layer die gecombineerd zijn. Dit was nodig om de mask-value verder door te kunnen geven"
      ]
    },
    {
      "cell_type": "code",
      "metadata": {
        "id": "gvYgZKJ0_Du9"
      },
      "source": [
        "class lstm_bottleneck(tf.keras.layers.Layer):\n",
        "    def __init__(self, lstm_units, time_steps, **kwargs):\n",
        "        self.lstm_units = lstm_units\n",
        "        self.time_steps = time_steps\n",
        "        self.lstm_layer = Bidirectional(LSTM(lstm_units, return_sequences=False))\n",
        "        self.repeat_layer = RepeatVector(time_steps)\n",
        "        super(lstm_bottleneck, self).__init__(**kwargs)\n",
        "    \n",
        "    def call(self, inputs):\n",
        "        # just call the two initialized layers\n",
        "        return self.repeat_layer(self.lstm_layer(inputs))\n",
        "    \n",
        "    def compute_mask(self, inputs, mask=None):\n",
        "        # return the input_mask directly\n",
        "        return mask\n",
        "\n",
        "    def get_config(self):\n",
        "        thisDict = {\n",
        "            \"lstm_layer\": self.lstm_layer.get_config(),\n",
        "            \"repeat_layer\": self.repeat_layer.get_config()\n",
        "        }\n",
        "        return thisDict"
      ],
      "execution_count": 3,
      "outputs": []
    },
    {
      "cell_type": "markdown",
      "metadata": {
        "id": "KAdoFB0vxj_-"
      },
      "source": [
        "In onderstaande cel wordt het model gedefinieerd"
      ]
    },
    {
      "cell_type": "code",
      "metadata": {
        "colab": {
          "base_uri": "https://localhost:8080/"
        },
        "id": "eRLu4Xgmp2w5",
        "outputId": "272e2edd-bdb1-4937-d62e-b18c2a49f48b"
      },
      "source": [
        "with strategy.scope():\n",
        "    \n",
        "  inp1 = Input(shape=(timesteps, 7), name=\"inp1\")\n",
        "  mask1 = Masking(mask_value=-1.)(inp1)\n",
        "\n",
        "  enc = Bidirectional(LSTM(55, activation = 'tanh', return_sequences = True, dropout = 0.1, kernel_regularizer=l2(0.01)))(mask1)\n",
        "  enc = Dropout(0.2)(enc)\n",
        "  enc = Bidirectional(LSTM(50, activation = 'tanh', return_sequences = True, kernel_regularizer=l2(0.01)))(enc)\n",
        "  enc = Dropout(0.1)(enc)\n",
        "\n",
        "  decode = lstm_bottleneck(lstm_units=45, time_steps=timesteps)(enc)\n",
        "\n",
        "  decode = Bidirectional(LSTM(50, activation = 'tanh', return_sequences = True, kernel_regularizer=l2(0.01)))(decode)\n",
        "  decode = Dropout(0.2)(decode)\n",
        "  decode = Bidirectional(LSTM(55, activation = 'tanh', return_sequences = True, kernel_regularizer=l2(0.01)))(decode)\n",
        "  decode = TimeDistributed(Dense(6, activation=\"softmax\"), name=\"dec1\")(decode)\n",
        "        \n",
        "  new_model = keras.Model(inputs=inp1, outputs = decode)\n",
        "  new_model.compile(loss= 'categorical_crossentropy', optimizer= tf.keras.optimizers.Adam(lr=0.0005), metrics=['categorical_accuracy'])\n",
        "  plot_model(new_model, to_file='model.png')\n",
        "  new_model.summary()"
      ],
      "execution_count": 6,
      "outputs": [
        {
          "output_type": "stream",
          "text": [
            "Model: \"model\"\n",
            "_________________________________________________________________\n",
            "Layer (type)                 Output Shape              Param #   \n",
            "=================================================================\n",
            "inp1 (InputLayer)            [(None, 322, 7)]          0         \n",
            "_________________________________________________________________\n",
            "masking (Masking)            (None, 322, 7)            0         \n",
            "_________________________________________________________________\n",
            "bidirectional (Bidirectional (None, 322, 110)          27720     \n",
            "_________________________________________________________________\n",
            "dropout (Dropout)            (None, 322, 110)          0         \n",
            "_________________________________________________________________\n",
            "bidirectional_1 (Bidirection (None, 322, 100)          64400     \n",
            "_________________________________________________________________\n",
            "dropout_1 (Dropout)          (None, 322, 100)          0         \n",
            "_________________________________________________________________\n",
            "lstm_bottleneck (lstm_bottle (None, 322, 90)           52560     \n",
            "_________________________________________________________________\n",
            "bidirectional_3 (Bidirection (None, 322, 100)          56400     \n",
            "_________________________________________________________________\n",
            "dropout_2 (Dropout)          (None, 322, 100)          0         \n",
            "_________________________________________________________________\n",
            "bidirectional_4 (Bidirection (None, 322, 110)          68640     \n",
            "_________________________________________________________________\n",
            "dec1 (TimeDistributed)       (None, 322, 6)            666       \n",
            "=================================================================\n",
            "Total params: 270,386\n",
            "Trainable params: 270,386\n",
            "Non-trainable params: 0\n",
            "_________________________________________________________________\n"
          ],
          "name": "stdout"
        }
      ]
    },
    {
      "cell_type": "markdown",
      "metadata": {
        "id": "IQ5cxYw3xrlq"
      },
      "source": [
        "Deze cel heeft als bedoeling om te controleren of de masking correct en tot het einde van het netwerk gebeurd."
      ]
    },
    {
      "cell_type": "code",
      "metadata": {
        "colab": {
          "base_uri": "https://localhost:8080/"
        },
        "id": "y9Bfxb2q_r3Z",
        "outputId": "9af2e3c5-1ccb-4813-e608-c8e64a5eac10"
      },
      "source": [
        "for i, l in enumerate(new_model.layers):\n",
        "    print(f'layer {i}: {l}')\n",
        "    print(f'has input mask: {l.input_mask}')\n",
        "    print(f'has output mask: {l.output_mask}')"
      ],
      "execution_count": null,
      "outputs": [
        {
          "output_type": "stream",
          "text": [
            "layer 0: <tensorflow.python.keras.engine.input_layer.InputLayer object at 0x7ff8507d0a90>\n",
            "has input mask: None\n",
            "has output mask: None\n",
            "layer 1: <tensorflow.python.keras.layers.core.Masking object at 0x7ff850653048>\n",
            "has input mask: None\n",
            "has output mask: KerasTensor(type_spec=TensorSpec(shape=(None, 322), dtype=tf.bool, name=None), name='masking/Squeeze:0')\n",
            "layer 2: <tensorflow.python.keras.layers.wrappers.Bidirectional object at 0x7ff8506539b0>\n",
            "has input mask: KerasTensor(type_spec=TensorSpec(shape=(None, 322), dtype=tf.bool, name=None), name='masking/Squeeze:0')\n",
            "has output mask: KerasTensor(type_spec=TensorSpec(shape=(None, 322), dtype=tf.bool, name=None), name='Placeholder_2:0')\n",
            "layer 3: <tensorflow.python.keras.layers.core.Dropout object at 0x7ff85077fa58>\n",
            "has input mask: KerasTensor(type_spec=TensorSpec(shape=(None, 322), dtype=tf.bool, name=None), name='Placeholder_2:0')\n",
            "has output mask: KerasTensor(type_spec=TensorSpec(shape=(None, 322), dtype=tf.bool, name=None), name='Placeholder_1:0')\n",
            "layer 4: <tensorflow.python.keras.layers.wrappers.Bidirectional object at 0x7ff7e1ea42e8>\n",
            "has input mask: KerasTensor(type_spec=TensorSpec(shape=(None, 322), dtype=tf.bool, name=None), name='Placeholder_1:0')\n",
            "has output mask: KerasTensor(type_spec=TensorSpec(shape=(None, 322), dtype=tf.bool, name=None), name='Placeholder_2:0')\n",
            "layer 5: <tensorflow.python.keras.layers.core.Dropout object at 0x7ff840150c50>\n",
            "has input mask: KerasTensor(type_spec=TensorSpec(shape=(None, 322), dtype=tf.bool, name=None), name='Placeholder_2:0')\n",
            "has output mask: KerasTensor(type_spec=TensorSpec(shape=(None, 322), dtype=tf.bool, name=None), name='Placeholder_1:0')\n",
            "layer 6: <tensorflow.python.keras.layers.wrappers.Bidirectional object at 0x7ff7e19160f0>\n",
            "has input mask: KerasTensor(type_spec=TensorSpec(shape=(None, 322), dtype=tf.bool, name=None), name='Placeholder_1:0')\n",
            "has output mask: None\n",
            "layer 7: <tensorflow.python.keras.layers.core.RepeatVector object at 0x7ff7e191d4e0>\n",
            "has input mask: None\n",
            "has output mask: None\n",
            "layer 8: <tensorflow.python.keras.layers.wrappers.Bidirectional object at 0x7ff7e13d4d30>\n",
            "has input mask: None\n",
            "has output mask: None\n",
            "layer 9: <tensorflow.python.keras.layers.core.Dropout object at 0x7ff7e1381d30>\n",
            "has input mask: None\n",
            "has output mask: None\n",
            "layer 10: <tensorflow.python.keras.layers.wrappers.Bidirectional object at 0x7ff7e11fe198>\n",
            "has input mask: None\n",
            "has output mask: None\n",
            "layer 11: <tensorflow.python.keras.layers.wrappers.TimeDistributed object at 0x7ff7e1149cf8>\n",
            "has input mask: None\n",
            "has output mask: None\n"
          ],
          "name": "stdout"
        }
      ]
    },
    {
      "cell_type": "markdown",
      "metadata": {
        "id": "oMlqTwUZx3q9"
      },
      "source": [
        "# Trainen van het model"
      ]
    },
    {
      "cell_type": "code",
      "metadata": {
        "colab": {
          "base_uri": "https://localhost:8080/"
        },
        "id": "ydgq3znDp3JZ",
        "outputId": "4f9ab2c4-267c-4886-c197-447c0a74ceaa"
      },
      "source": [
        "model_checkpoint_callback_loss = tf.keras.callbacks.ModelCheckpoint(\n",
        "    filepath='val_loss_model.h5',\n",
        "    monitor='val_loss',\n",
        "    mode='min',\n",
        "    save_best_only=True\n",
        ")\n",
        "\n",
        "model_checkpoint_callback_accuracy = tf.keras.callbacks.ModelCheckpoint(\n",
        "    filepath='val_accuracy_model.h5',\n",
        "    monitor='val_categorical_accuracy',\n",
        "    mode='max',\n",
        "    save_best_only=True\n",
        ")\n",
        "\n",
        "\n",
        "lstm_new_network = new_model.fit(x=X_train, y=X_train[:,:,:6], epochs = int(epochs_d), callbacks=[model_checkpoint_callback_loss, model_checkpoint_callback_accuracy], sample_weight=weigth_matrix, batch_size=64, validation_data=(X_val, X_val[:,:,:6], val_weight_matrix), verbose = 1)"
      ],
      "execution_count": null,
      "outputs": [
        {
          "output_type": "stream",
          "text": [
            "Epoch 1/10\n",
            "131/131 [==============================] - 54s 209ms/step - loss: 6.9647 - categorical_accuracy: 0.1451 - val_loss: 2.8315 - val_categorical_accuracy: 0.1947\n",
            "Epoch 2/10\n",
            "131/131 [==============================] - 20s 154ms/step - loss: 2.0677 - categorical_accuracy: 0.1543 - val_loss: 1.3187 - val_categorical_accuracy: 0.1956\n",
            "Epoch 3/10\n",
            "131/131 [==============================] - 20s 152ms/step - loss: 1.0030 - categorical_accuracy: 0.1559 - val_loss: 1.0573 - val_categorical_accuracy: 0.1983\n",
            "Epoch 4/10\n",
            "131/131 [==============================] - 20s 156ms/step - loss: 0.8255 - categorical_accuracy: 0.1574 - val_loss: 1.0141 - val_categorical_accuracy: 0.1934\n",
            "Epoch 5/10\n",
            "131/131 [==============================] - 20s 151ms/step - loss: 0.8000 - categorical_accuracy: 0.1537 - val_loss: 1.0066 - val_categorical_accuracy: 0.1940\n",
            "Epoch 6/10\n",
            "131/131 [==============================] - 20s 155ms/step - loss: 0.7961 - categorical_accuracy: 0.1516 - val_loss: 1.0172 - val_categorical_accuracy: 0.1941\n",
            "Epoch 7/10\n",
            "131/131 [==============================] - 20s 153ms/step - loss: 0.7952 - categorical_accuracy: 0.1532 - val_loss: 1.0072 - val_categorical_accuracy: 0.1911\n",
            "Epoch 8/10\n",
            "131/131 [==============================] - 20s 152ms/step - loss: 0.7849 - categorical_accuracy: 0.1522 - val_loss: 1.0080 - val_categorical_accuracy: 0.1903\n",
            "Epoch 9/10\n",
            "131/131 [==============================] - 20s 156ms/step - loss: 0.7931 - categorical_accuracy: 0.1524 - val_loss: 1.0068 - val_categorical_accuracy: 0.1895\n",
            "Epoch 10/10\n",
            "131/131 [==============================] - 20s 154ms/step - loss: 0.7890 - categorical_accuracy: 0.1505 - val_loss: 1.0023 - val_categorical_accuracy: 0.1900\n"
          ],
          "name": "stdout"
        }
      ]
    },
    {
      "cell_type": "markdown",
      "metadata": {
        "id": "9b7mAiPiyHSm"
      },
      "source": [
        "# Verwerken van de resultaten"
      ]
    },
    {
      "cell_type": "code",
      "metadata": {
        "colab": {
          "base_uri": "https://localhost:8080/",
          "height": 295
        },
        "id": "QbiBQNGvp3ML",
        "outputId": "5cf4273a-99e8-434b-de4c-bfaa98374f47"
      },
      "source": [
        "epochs = range(2,int(epochs_d))\n",
        "lstm_new_network.history['loss'].pop(0)\n",
        "lstm_new_network.history['loss'].pop(0)\n",
        "plt.plot(epochs, lstm_new_network.history['loss'])\n",
        "lstm_new_network.history['val_loss'].pop(0)\n",
        "lstm_new_network.history['val_loss'].pop(0)\n",
        "plt.plot(epochs, lstm_new_network.history['val_loss'])\n",
        "plt.title('Model Loss')\n",
        "plt.ylabel('loss')\n",
        "plt.xlabel('epoch')\n",
        "plt.legend(['Model', 'Validation'], loc='upper right')\n",
        "plt.show()"
      ],
      "execution_count": null,
      "outputs": [
        {
          "output_type": "display_data",
          "data": {
            "image/png": "[encoded data removed]",
            "text/plain": [
              "<Figure size 432x288 with 1 Axes>"
            ]
          },
          "metadata": {
            "tags": [],
            "needs_background": "light"
          }
        }
      ]
    },
    {
      "cell_type": "code",
      "metadata": {
        "colab": {
          "base_uri": "https://localhost:8080/",
          "height": 295
        },
        "id": "Pbq14jy78KJe",
        "outputId": "c8d44f1e-009d-413f-8b69-66cf3c0fba7b"
      },
      "source": [
        "plt.plot(lstm_new_network.history['categorical_accuracy'])\n",
        "plt.plot(lstm_new_network.history['val_categorical_accuracy'])\n",
        "plt.title('Model Accuracy')\n",
        "plt.ylabel('Accuracy')\n",
        "plt.xlabel('epoch')\n",
        "plt.legend(['Model', 'Validation'], loc='upper left')\n",
        "plt.show()"
      ],
      "execution_count": null,
      "outputs": [
        {
          "output_type": "display_data",
          "data": {
            "image/png": "[encoded data removed]",
            "text/plain": [
              "<Figure size 432x288 with 1 Axes>"
            ]
          },
          "metadata": {
            "tags": [],
            "needs_background": "light"
          }
        }
      ]
    },
    {
      "cell_type": "code",
      "metadata": {
        "id": "gxjN6CqmRSRi"
      },
      "source": [
        "# Mogelijkheid tot inladen van eerder getrained model\n",
        "# Overslaan als je nieuw getrained model wil testen\n",
        "new_model.load_weights('val_loss_model.h5')"
      ],
      "execution_count": 18,
      "outputs": []
    },
    {
      "cell_type": "code",
      "metadata": {
        "id": "m5VxwcoCCr9u"
      },
      "source": [
        "# Mogelijkheid tot het opslaan van het huidige model\n",
        "new_model.save(\"test_123\")"
      ],
      "execution_count": null,
      "outputs": []
    },
    {
      "cell_type": "code",
      "metadata": {
        "id": "dgEFjnrdg42E"
      },
      "source": [
        "# Enkel gemaakt voor cross-validation.\n",
        "# Validatie en test set zijn samen gebracht zodat alle data ZEKER eens getest wordt.\n",
        "X_test_temp = []\n",
        "\n",
        "for planning in X_test:\n",
        "  X_test_temp.append(planning)\n",
        "\n",
        "for planning in X_val:\n",
        "  X_test_temp.append(planning)\n",
        "\n",
        "X_test = np.array(X_test_temp)"
      ],
      "execution_count": null,
      "outputs": []
    },
    {
      "cell_type": "markdown",
      "metadata": {
        "id": "uFb6p5F3zGW9"
      },
      "source": [
        "Vanaf hier worden ongeziene planningen getest. In de voorspelde vectoren wordt een waarschijnlijkheids-distibutie weergegeven over de verschillende klassen. Diegene met de hoogste waarschijnlijk wordt hoog gezet (1), de rest laag (0)."
      ]
    },
    {
      "cell_type": "code",
      "metadata": {
        "id": "jKD0_Y0vp3O6"
      },
      "source": [
        "Pred_test_pr = new_model.predict(X_test)\n",
        "Copy_pred = Pred_test_pr.copy()"
      ],
      "execution_count": 19,
      "outputs": []
    },
    {
      "cell_type": "code",
      "metadata": {
        "id": "zao_SMI1p3Rn"
      },
      "source": [
        "for i, planning in enumerate(Pred_test_pr):\n",
        "  for j, day in enumerate(Pred_test_pr[i]):\n",
        "    max_value = 0\n",
        "    max_value_index = -1\n",
        "    for k, feature in enumerate(Pred_test_pr[i][j]):\n",
        "      if max_value < feature:\n",
        "        max_value = feature\n",
        "        max_value_index = k\n",
        "    for k, feature in enumerate(Pred_test_pr[i][j]):\n",
        "      if k == max_value_index:\n",
        "        Pred_test_pr[i][j][k]=1\n",
        "      else:\n",
        "        Pred_test_pr[i][j][k]=0"
      ],
      "execution_count": 20,
      "outputs": []
    },
    {
      "cell_type": "code",
      "metadata": {
        "colab": {
          "base_uri": "https://localhost:8080/"
        },
        "id": "evLiDb1_r0fZ",
        "outputId": "1aa02b69-ffb3-4745-ae6a-5a54c4e21b72"
      },
      "source": [
        "mask_matrix_3 = []\n",
        "for planning in X_test:\n",
        "  mask_row = []\n",
        "  for timestamp in planning:\n",
        "    if -1.0 in timestamp:\n",
        "      mask_row.append(0)\n",
        "    else:\n",
        "      mask_row.append(1)\n",
        "  mask_matrix_3.append(mask_row)\n",
        "\n",
        "mask_matrix_3 = np.array(mask_matrix_3)\n",
        "print(len(X_train))\n",
        "print(str(mask_matrix_3.shape))"
      ],
      "execution_count": 21,
      "outputs": [
        {
          "output_type": "stream",
          "text": [
            "8744\n",
            "(2209, 322)\n"
          ],
          "name": "stdout"
        }
      ]
    },
    {
      "cell_type": "markdown",
      "metadata": {
        "id": "9ejQxPj2zee8"
      },
      "source": [
        "Er wordt gekeken in hoeverre de output-planning overeenkomt met de input-planning. Dit wordt bekeken in zijn totaliteit en aan de hand daarvan worden een aantal parameters berekend."
      ]
    },
    {
      "cell_type": "code",
      "metadata": {
        "colab": {
          "base_uri": "https://localhost:8080/"
        },
        "id": "i1HceWNjr7ys",
        "outputId": "6d92a6d7-cd10-4040-f75d-5b25cb2d808a"
      },
      "source": [
        "procenten = []\n",
        "totaal_procenten = 0\n",
        "\n",
        "min = 1\n",
        "max = 0\n",
        "\n",
        "for planning in range(len(Pred_test_pr)):\n",
        "  total = 0\n",
        "  sum = 0\n",
        "\n",
        "\n",
        "  for dag in range(len(Pred_test_pr[0])):\n",
        "    total += mask_matrix_3[planning][dag]\n",
        "    for feature in range(6):\n",
        "      assert int(mask_matrix_3[planning][dag]) >= 0\n",
        "\n",
        "      if int(mask_matrix_3[planning][dag]) > 0:\n",
        "        assert int(Pred_test_pr[planning][dag][feature]) >= 0\n",
        "        assert int(X_test[planning][dag][feature]) >= 0\n",
        "\n",
        "      sum += (int(mask_matrix_3[planning][dag]) * int(Pred_test_pr[planning][dag][feature]) * int(X_test[planning][dag][feature]))\n",
        "  \n",
        "  percentage = float(float(sum) / float(total))\n",
        "  totaal_procenten = totaal_procenten + percentage\n",
        "  procenten.append(percentage)\n",
        "\n",
        "  if percentage < min:\n",
        "    min = percentage\n",
        "  if percentage > max:\n",
        "    max = percentage\n",
        "\n",
        "print(\"This model gives you the following parameters:\")\n",
        "print(\"\")\n",
        "print(\"   - GEMIDDELDE ACCURACY IN PLANNINGEN: \" + str(float(totaal_procenten / len(Pred_test_pr))))\n",
        "print(\"   - Minumum Accuracy: \" + str(min))\n",
        "print(\"   - Maximum Accuracy: \" + str(max))\n",
        "print(\"\")\n",
        "print(\"\")\n",
        "print(\"   - ACCURACY-PERCENTAGES IN PLANNINGEN (Alles): \")\n",
        "print(\"\")\n",
        "print(procenten)\n"
      ],
      "execution_count": 22,
      "outputs": [
        {
          "output_type": "stream",
          "text": [
            "This model gives you the following parameters:\n",
            "\n",
            "   - GEMIDDELDE ACCURACY IN PLANNINGEN: 0.7850040287308429\n",
            "   - Minumum Accuracy: 0.4166666666666667\n",
            "   - Maximum Accuracy: 0.9682539682539683\n",
            "\n",
            "\n",
            "   - ACCURACY-PERCENTAGES IN PLANNINGEN (Alles): \n",
            "\n",
            "[0.7362637362637363, 0.7362637362637363, 0.7692307692307693, 0.7142857142857143, 0.7472527472527473, 0.7472527472527473, 0.7692307692307693, 0.7472527472527473, 0.7472527472527473, 0.7692307692307693, 0.7142857142857143, 0.7362637362637363, 0.7692307692307693, 0.8333333333333334, 0.7857142857142857, 0.8095238095238095, 0.8571428571428571, 0.8214285714285714, 0.8095238095238095, 0.8333333333333334, 0.7619047619047619, 0.8452380952380952, 0.8095238095238095, 0.8333333333333334, 0.7380952380952381, 0.7912087912087912, 0.7472527472527473, 0.7032967032967034, 0.7472527472527473, 0.6923076923076923, 0.7692307692307693, 0.7362637362637363, 0.7252747252747253, 0.7472527472527473, 0.8021978021978022, 0.7142857142857143, 0.7472527472527473, 0.7802197802197802, 0.7551020408163265, 0.7755102040816326, 0.7959183673469388, 0.7959183673469388, 0.8061224489795918, 0.7755102040816326, 0.7653061224489796, 0.7653061224489796, 0.7653061224489796, 0.7653061224489796, 0.8061224489795918, 0.7755102040816326, 0.7959183673469388, 0.7755102040816326, 0.7653061224489796, 0.7551020408163265, 0.7448979591836735, 0.7551020408163265, 0.7040816326530612, 0.7653061224489796, 0.7857142857142857, 0.7142857142857143, 0.7448979591836735, 0.673469387755102, 0.7346938775510204, 0.7244897959183674, 0.7755102040816326, 0.7551020408163265, 0.7653061224489796, 0.7551020408163265, 0.7448979591836735, 0.7551020408163265, 0.7040816326530612, 0.7653061224489796, 0.7857142857142857, 0.7142857142857143, 0.7448979591836735, 0.673469387755102, 0.7346938775510204, 0.7244897959183674, 0.7755102040816326, 0.7551020408163265, 0.8571428571428571, 0.8571428571428571, 0.8392857142857143, 0.8214285714285714, 0.8571428571428571, 0.8035714285714286, 0.7321428571428571, 0.7857142857142857, 0.8571428571428571, 0.8888888888888888, 0.8888888888888888, 0.8412698412698413, 0.9047619047619048, 0.9365079365079365, 0.8888888888888888, 0.8571428571428571, 0.8571428571428571, 0.8412698412698413, 0.8571428571428571, 0.8888888888888888, 0.8888888888888888, 0.8888888888888888, 0.8888888888888888, 0.873015873015873, 0.8888888888888888, 0.8412698412698413, 0.8888888888888888, 0.9047619047619048, 0.9047619047619048, 0.9047619047619048, 0.9206349206349206, 0.9047619047619048, 0.9047619047619048, 0.9206349206349206, 0.9206349206349206, 0.9365079365079365, 0.9682539682539683, 0.9682539682539683, 0.9682539682539683, 0.9682539682539683, 0.9523809523809523, 0.9365079365079365, 0.9365079365079365, 0.9523809523809523, 0.948051948051948, 0.8831168831168831, 0.935064935064935, 0.948051948051948, 0.922077922077922, 0.8831168831168831, 0.8831168831168831, 0.8961038961038961, 0.8961038961038961, 0.9090909090909091, 0.8701298701298701, 0.7402597402597403, 0.7402597402597403, 0.7922077922077922, 0.7272727272727273, 0.7402597402597403, 0.6753246753246753, 0.7272727272727273, 0.6623376623376623, 0.7012987012987013, 0.7012987012987013, 0.7012987012987013, 0.8311688311688312, 0.8181818181818182, 0.7662337662337663, 0.7792207792207793, 0.8571428571428571, 0.7922077922077922, 0.7662337662337663, 0.7662337662337663, 0.7402597402597403, 0.7532467532467533, 0.7532467532467533, 0.8181818181818182, 0.7662337662337663, 0.7922077922077922, 0.8051948051948052, 0.7792207792207793, 0.7792207792207793, 0.7402597402597403, 0.7792207792207793, 0.7792207792207793, 0.8441558441558441, 0.7922077922077922, 0.7662337662337663, 0.7402597402597403, 0.7922077922077922, 0.8311688311688312, 0.7662337662337663, 0.7922077922077922, 0.7662337662337663, 0.7922077922077922, 0.7662337662337663, 0.7922077922077922, 0.8051948051948052, 0.8701298701298701, 0.8311688311688312, 0.8441558441558441, 0.8961038961038961, 0.8051948051948052, 0.8571428571428571, 0.8311688311688312, 0.7922077922077922, 0.8051948051948052, 0.8181818181818182, 0.8571428571428571, 0.8701298701298701, 0.8311688311688312, 0.8441558441558441, 0.8961038961038961, 0.8051948051948052, 0.8571428571428571, 0.8311688311688312, 0.7922077922077922, 0.8051948051948052, 0.8181818181818182, 0.8571428571428571, 0.8345864661654135, 0.7969924812030075, 0.8571428571428571, 0.8195488721804511, 0.8421052631578947, 0.8421052631578947, 0.8195488721804511, 0.849624060150376, 0.8421052631578947, 0.8721804511278195, 0.7819548872180451, 0.849624060150376, 0.8421052631578947, 0.7819548872180451, 0.7969924812030075, 0.8345864661654135, 0.8421052631578947, 0.7894736842105263, 0.849624060150376, 0.7785714285714286, 0.7857142857142857, 0.8, 0.7785714285714286, 0.8, 0.7714285714285715, 0.8, 0.7928571428571428, 0.7642857142857142, 0.8, 0.8071428571428572, 0.8214285714285714, 0.8, 0.8142857142857143, 0.8214285714285714, 0.7785714285714286, 0.8428571428571429, 0.7928571428571428, 0.8071428571428572, 0.8214285714285714, 0.7571428571428571, 0.7785714285714286, 0.75, 0.7571428571428571, 0.75, 0.75, 0.75, 0.7357142857142858, 0.7785714285714286, 0.7857142857142857, 0.7785714285714286, 0.8071428571428572, 0.7857142857142857, 0.7785714285714286, 0.7642857142857142, 0.7357142857142858, 0.7642857142857142, 0.7642857142857142, 0.7357142857142858, 0.7571428571428571, 0.8, 0.8114285714285714, 0.8171428571428572, 0.84, 0.8114285714285714, 0.7542857142857143, 0.7828571428571428, 0.8, 0.8171428571428572, 0.8285714285714286, 0.8342857142857143, 0.8171428571428572, 0.8, 0.8285714285714286, 0.7828571428571428, 0.8171428571428572, 0.7771428571428571, 0.8114285714285714, 0.8285714285714286, 0.7771428571428571, 0.7657142857142857, 0.7714285714285715, 0.7828571428571428, 0.8285714285714286, 0.8342857142857143, 0.8514285714285714, 0.84, 0.8285714285714286, 0.8457142857142858, 0.8457142857142858, 0.8342857142857143, 0.8228571428571428, 0.8742857142857143, 0.8514285714285714, 0.84, 0.8342857142857143, 0.8628571428571429, 0.8685714285714285, 0.8285714285714286, 0.8514285714285714, 0.8457142857142858, 0.8285714285714286, 0.8285714285714286, 0.8057142857142857, 0.8114285714285714, 0.84, 0.8514285714285714, 0.84, 0.8571428571428571, 0.8685714285714285, 0.8457142857142858, 0.8228571428571428, 0.8228571428571428, 0.8742857142857143, 0.8571428571428571, 0.8571428571428571, 0.8, 0.8628571428571429, 0.84, 0.84, 0.84, 0.8457142857142858, 0.8285714285714286, 0.8457142857142858, 0.8285714285714286, 0.8342857142857143, 0.8342857142857143, 0.8514285714285714, 0.8171428571428572, 0.8228571428571428, 0.8457142857142858, 0.8342857142857143, 0.8342857142857143, 0.8514285714285714, 0.88, 0.8260869565217391, 0.8136645962732919, 0.7701863354037267, 0.7888198757763976, 0.8012422360248447, 0.7950310559006211, 0.782608695652174, 0.8012422360248447, 0.8074534161490683, 0.8260869565217391, 0.8012422360248447, 0.7763975155279503, 0.7763975155279503, 0.7763975155279503, 0.8260869565217391, 0.8260869565217391, 0.7888198757763976, 0.7577639751552795, 0.7950310559006211, 0.84472049689441, 0.8012422360248447, 0.8385093167701864, 0.8012422360248447, 0.7857142857142857, 0.7532467532467533, 0.7792207792207793, 0.8051948051948052, 0.7532467532467533, 0.7792207792207793, 0.7987012987012987, 0.7792207792207793, 0.7922077922077922, 0.7857142857142857, 0.7532467532467533, 0.7857142857142857, 0.7857142857142857, 0.7987012987012987, 0.7857142857142857, 0.7662337662337663, 0.7727272727272727, 0.7662337662337663, 0.7532467532467533, 0.7532467532467533, 0.7792207792207793, 0.7922077922077922, 0.7922077922077922, 0.7402597402597403, 0.7922077922077922, 0.8116883116883117, 0.7727272727272727, 0.7922077922077922, 0.7987012987012987, 0.7857142857142857, 0.8051948051948052, 0.7792207792207793, 0.7922077922077922, 0.7727272727272727, 0.7922077922077922, 0.7662337662337663, 0.7987012987012987, 0.7987012987012987, 0.7727272727272727, 0.7792207792207793, 0.7727272727272727, 0.7467532467532467, 0.7922077922077922, 0.7922077922077922, 0.7532467532467533, 0.7727272727272727, 0.7857142857142857, 0.7792207792207793, 0.8311688311688312, 0.7662337662337663, 0.8246753246753247, 0.7922077922077922, 0.7987012987012987, 0.7922077922077922, 0.8051948051948052, 0.8181818181818182, 0.7922077922077922, 0.8181818181818182, 0.8116883116883117, 0.8181818181818182, 0.8116883116883117, 0.8116883116883117, 0.7792207792207793, 0.7792207792207793, 0.7792207792207793, 0.8051948051948052, 0.7792207792207793, 0.7922077922077922, 0.8181818181818182, 0.8051948051948052, 0.8311688311688312, 0.7792207792207793, 0.8116883116883117, 0.7922077922077922, 0.8051948051948052, 0.7922077922077922, 0.7922077922077922, 0.8051948051948052, 0.8051948051948052, 0.8116883116883117, 0.7922077922077922, 0.8116883116883117, 0.7922077922077922, 0.8376623376623377, 0.7922077922077922, 0.7792207792207793, 0.7467532467532467, 0.8051948051948052, 0.7987012987012987, 0.8311688311688312, 0.8376623376623377, 0.8246753246753247, 0.7987012987012987, 0.7987012987012987, 0.8311688311688312, 0.7792207792207793, 0.7922077922077922, 0.7987012987012987, 0.8116883116883117, 0.8441558441558441, 0.7987012987012987, 0.8311688311688312, 0.8181818181818182, 0.8246753246753247, 0.7987012987012987, 0.8116883116883117, 0.8181818181818182, 0.7662337662337663, 0.7857142857142857, 0.7792207792207793, 0.7755102040816326, 0.8027210884353742, 0.7891156462585034, 0.7619047619047619, 0.7619047619047619, 0.7619047619047619, 0.7414965986394558, 0.7414965986394558, 0.7891156462585034, 0.7755102040816326, 0.7482993197278912, 0.7891156462585034, 0.7755102040816326, 0.782312925170068, 0.7891156462585034, 0.8027210884353742, 0.7551020408163265, 0.782312925170068, 0.7891156462585034, 0.7959183673469388, 0.7687074829931972, 0.7891156462585034, 0.782312925170068, 0.7959183673469388, 0.7891156462585034, 0.8027210884353742, 0.8095238095238095, 0.8027210884353742, 0.7959183673469388, 0.782312925170068, 0.8027210884353742, 0.782312925170068, 0.7619047619047619, 0.7959183673469388, 0.782312925170068, 0.8027210884353742, 0.782312925170068, 0.7482993197278912, 0.7482993197278912, 0.7959183673469388, 0.7959183673469388, 0.7755102040816326, 0.8809523809523809, 0.8968253968253969, 0.8809523809523809, 0.8968253968253969, 0.8809523809523809, 0.8888888888888888, 0.9047619047619048, 0.9285714285714286, 0.9126984126984127, 0.9047619047619048, 0.9206349206349206, 0.8809523809523809, 0.873015873015873, 0.8888888888888888, 0.9047619047619048, 0.9206349206349206, 0.9126984126984127, 0.8888888888888888, 0.8333333333333334, 0.8492063492063492, 0.8492063492063492, 0.873015873015873, 0.8809523809523809, 0.8888888888888888, 0.8809523809523809, 0.8888888888888888, 0.8888888888888888, 0.8650793650793651, 0.9047619047619048, 0.8650793650793651, 0.8333333333333334, 0.8650793650793651, 0.873015873015873, 0.9126984126984127, 0.8968253968253969, 0.8571428571428571, 0.8253968253968254, 0.8571428571428571, 0.8492063492063492, 0.8492063492063492, 0.8571428571428571, 0.8888888888888888, 0.873015873015873, 0.873015873015873, 0.8492063492063492, 0.8253968253968254, 0.9047619047619048, 0.8571428571428571, 0.8253968253968254, 0.8571428571428571, 0.873015873015873, 0.8888888888888888, 0.8888888888888888, 0.8412698412698413, 0.873015873015873, 0.8492063492063492, 0.8095238095238095, 0.8650793650793651, 0.8571428571428571, 0.8571428571428571, 0.8492063492063492, 0.8412698412698413, 0.8412698412698413, 0.8253968253968254, 0.8571428571428571, 0.8174603174603174, 0.8015873015873016, 0.8492063492063492, 0.8571428571428571, 0.8571428571428571, 0.8412698412698413, 0.8412698412698413, 0.9047619047619048, 0.8809523809523809, 0.8253968253968254, 0.8888888888888888, 0.8650793650793651, 0.8809523809523809, 0.8809523809523809, 0.8968253968253969, 0.8809523809523809, 0.8571428571428571, 0.8888888888888888, 0.8492063492063492, 0.8571428571428571, 0.8809523809523809, 0.873015873015873, 0.9047619047619048, 0.873015873015873, 0.8650793650793651, 0.8968253968253969, 0.8650793650793651, 0.8412698412698413, 0.8809523809523809, 0.8650793650793651, 0.873015873015873, 0.8650793650793651, 0.8888888888888888, 0.8571428571428571, 0.8650793650793651, 0.8809523809523809, 0.8253968253968254, 0.8571428571428571, 0.873015873015873, 0.873015873015873, 0.9047619047619048, 0.8809523809523809, 0.8650793650793651, 0.47619047619047616, 0.4880952380952381, 0.4523809523809524, 0.4642857142857143, 0.47619047619047616, 0.4642857142857143, 0.4523809523809524, 0.4166666666666667, 0.4166666666666667, 0.5, 0.44047619047619047, 0.5119047619047619, 0.6473214285714286, 0.7053571428571429, 0.6473214285714286, 0.6339285714285714, 0.6205357142857143, 0.625, 0.6785714285714286, 0.6830357142857143, 0.6339285714285714, 0.6696428571428571, 0.6741071428571429, 0.6875, 0.65625, 0.6651785714285714, 0.6875, 0.6473214285714286, 0.65625, 0.6651785714285714, 0.6830357142857143, 0.6964285714285714, 0.6339285714285714, 0.625, 0.6741071428571429, 0.6294642857142857, 0.6964285714285714, 0.6785714285714286, 0.6785714285714286, 0.6964285714285714, 0.6339285714285714, 0.6785714285714286, 0.6607142857142857, 0.6383928571428571, 0.6294642857142857, 0.6294642857142857, 0.6339285714285714, 0.6339285714285714, 0.6607142857142857, 0.6517857142857143, 0.5848214285714286, 0.6785714285714286, 0.7008928571428571, 0.7232142857142857, 0.7366071428571429, 0.6964285714285714, 0.6785714285714286, 0.6696428571428571, 0.6830357142857143, 0.6830357142857143, 0.6339285714285714, 0.6383928571428571, 0.7142857142857143, 0.7008928571428571, 0.6785714285714286, 0.6830357142857143, 0.6696428571428571, 0.6696428571428571, 0.6875, 0.6830357142857143, 0.65625, 0.6919642857142857, 0.7142857142857143, 0.7008928571428571, 0.6875, 0.625, 0.6764705882352942, 0.6974789915966386, 0.6680672268907563, 0.6932773109243697, 0.6890756302521008, 0.6554621848739496, 0.6386554621848739, 0.6764705882352942, 0.6386554621848739, 0.7184873949579832, 0.6764705882352942, 0.7100840336134454, 0.7058823529411765, 0.6260504201680672, 0.7016806722689075, 0.6596638655462185, 0.6722689075630253, 0.7310924369747899, 0.6932773109243697, 0.6722689075630253, 0.7100840336134454, 0.6722689075630253, 0.6554621848739496, 0.6974789915966386, 0.6428571428571429, 0.6554621848739496, 0.6638655462184874, 0.6512605042016807, 0.6554621848739496, 0.680672268907563, 0.6764705882352942, 0.6764705882352942, 0.680672268907563, 0.6722689075630253, 0.7040816326530612, 0.6938775510204082, 0.6581632653061225, 0.6785714285714286, 0.6836734693877551, 0.6989795918367347, 0.6938775510204082, 0.6989795918367347, 0.6785714285714286, 0.7193877551020408, 0.6938775510204082, 0.6785714285714286, 0.6683673469387755, 0.7040816326530612, 0.6632653061224489, 0.6632653061224489, 0.7295918367346939, 0.6581632653061225, 0.6785714285714286, 0.6989795918367347, 0.6785714285714286, 0.6683673469387755, 0.6938775510204082, 0.7244897959183674, 0.6836734693877551, 0.6836734693877551, 0.6581632653061225, 0.6989795918367347, 0.7354497354497355, 0.7513227513227513, 0.7513227513227513, 0.7619047619047619, 0.7724867724867724, 0.7407407407407407, 0.7566137566137566, 0.7671957671957672, 0.7566137566137566, 0.7301587301587301, 0.7407407407407407, 0.746031746031746, 0.7724867724867724, 0.746031746031746, 0.7671957671957672, 0.7513227513227513, 0.783068783068783, 0.7513227513227513, 0.7724867724867724, 0.746031746031746, 0.7301587301587301, 0.7248677248677249, 0.7407407407407407, 0.7671957671957672, 0.7671957671957672, 0.7777777777777778, 0.7777777777777778, 0.6878306878306878, 0.7513227513227513, 0.7513227513227513, 0.7513227513227513, 0.708994708994709, 0.7513227513227513, 0.7301587301587301, 0.7195767195767195, 0.7248677248677249, 0.671957671957672, 0.6878306878306878, 0.7354497354497355, 0.7248677248677249, 0.7195767195767195, 0.6984126984126984, 0.7248677248677249, 0.7142857142857143, 0.7248677248677249, 0.7248677248677249, 0.7142857142857143, 0.7037037037037037, 0.708994708994709, 0.6772486772486772, 0.7248677248677249, 0.7354497354497355, 0.7301587301587301, 0.6984126984126984, 0.5818815331010453, 0.5888501742160279, 0.5853658536585366, 0.6236933797909407, 0.5749128919860628, 0.5923344947735192, 0.5749128919860628, 0.5853658536585366, 0.578397212543554, 0.5714285714285714, 0.5853658536585366, 0.5679442508710801, 0.5888501742160279, 0.554006968641115, 0.5993031358885017, 0.6236933797909407, 0.6062717770034843, 0.6062717770034843, 0.5714285714285714, 0.5853658536585366, 0.5888501742160279, 0.6167247386759582, 0.6167247386759582, 0.5644599303135889, 0.5923344947735192, 0.5644599303135889, 0.5644599303135889, 0.5505226480836237, 0.5993031358885017, 0.554006968641115, 0.6132404181184669, 0.5679442508710801, 0.627177700348432, 0.6097560975609756, 0.6167247386759582, 0.627177700348432, 0.662020905923345, 0.6480836236933798, 0.6236933797909407, 0.5958188153310104, 0.6236933797909407, 0.6964285714285714, 0.6892857142857143, 0.6892857142857143, 0.6821428571428572, 0.6714285714285714, 0.6571428571428571, 0.6392857142857142, 0.6321428571428571, 0.6071428571428571, 0.5892857142857143, 0.5928571428571429, 0.6035714285714285, 0.625, 0.6178571428571429, 0.6214285714285714, 0.6214285714285714, 0.6142857142857143, 0.6607142857142857, 0.6678571428571428, 0.6535714285714286, 0.6571428571428571, 0.65, 0.6357142857142857, 0.6428571428571429, 0.6535714285714286, 0.6392857142857142, 0.6392857142857142, 0.6464285714285715, 0.6392857142857142, 0.6571428571428571, 0.625, 0.6642857142857143, 0.6535714285714286, 0.6464285714285715, 0.6535714285714286, 0.6535714285714286, 0.6821428571428572, 0.6642857142857143, 0.6678571428571428, 0.6964285714285714, 0.7252747252747253, 0.7252747252747253, 0.6996336996336996, 0.673992673992674, 0.663003663003663, 0.6776556776556777, 0.6996336996336996, 0.7106227106227107, 0.717948717948718, 0.7142857142857143, 0.7252747252747253, 0.717948717948718, 0.7472527472527473, 0.706959706959707, 0.6959706959706959, 0.7142857142857143, 0.7509157509157509, 0.7435897435897436, 0.7472527472527473, 0.7032967032967034, 0.717948717948718, 0.717948717948718, 0.6556776556776557, 0.6886446886446886, 0.7032967032967034, 0.684981684981685, 0.7032967032967034, 0.6959706959706959, 0.7106227106227107, 0.7032967032967034, 0.7252747252747253, 0.7435897435897436, 0.7582417582417582, 0.7326007326007326, 0.7142857142857143, 0.73992673992674, 0.73992673992674, 0.7252747252747253, 0.7032967032967034, 0.7545787545787546, 0.7509157509157509, 0.73992673992674, 0.6813186813186813, 0.7142857142857143, 0.706959706959707, 0.717948717948718, 0.717948717948718, 0.7362637362637363, 0.7032967032967034, 0.7472527472527473, 0.7289377289377289, 0.7362637362637363, 0.7435897435897436, 0.7802197802197802, 0.7435897435897436, 0.7362637362637363, 0.7326007326007326, 0.7435897435897436, 0.7472527472527473, 0.7142857142857143, 0.73992673992674, 0.7435897435897436, 0.7472527472527473, 0.7142857142857143, 0.7655677655677655, 0.7472527472527473, 0.7619047619047619, 0.7692307692307693, 0.7692307692307693, 0.7802197802197802, 0.7875457875457875, 0.7802197802197802, 0.7435897435897436, 0.7838827838827839, 0.7765567765567766, 0.7619047619047619, 0.7362637362637363, 0.7435897435897436, 0.75, 0.7785714285714286, 0.7714285714285715, 0.7571428571428571, 0.7464285714285714, 0.7571428571428571, 0.7607142857142857, 0.7678571428571429, 0.7464285714285714, 0.7678571428571429, 0.725, 0.7607142857142857, 0.7464285714285714, 0.7714285714285715, 0.775, 0.7678571428571429, 0.7964285714285714, 0.7392857142857143, 0.7428571428571429, 0.6892857142857143, 0.7178571428571429, 0.7107142857142857, 0.7214285714285714, 0.7607142857142857, 0.7607142857142857, 0.775, 0.7821428571428571, 0.7535714285714286, 0.7785714285714286, 0.7642857142857142, 0.7464285714285714, 0.7571428571428571, 0.7678571428571429, 0.75, 0.75, 0.7321428571428571, 0.7642857142857142, 0.7428571428571429, 0.7535714285714286, 0.7535714285714286, 0.7464285714285714, 0.7571428571428571, 0.7714285714285715, 0.7535714285714286, 0.7535714285714286, 0.7642857142857142, 0.7357142857142858, 0.7857142857142857, 0.7285714285714285, 0.725, 0.7357142857142858, 0.7535714285714286, 0.7321428571428571, 0.7571428571428571, 0.7678571428571429, 0.7678571428571429, 0.7464285714285714, 0.7428571428571429, 0.7285714285714285, 0.7214285714285714, 0.7321428571428571, 0.7321428571428571, 0.7107142857142857, 0.7392857142857143, 0.7321428571428571, 0.7357142857142858, 0.7571428571428571, 0.7535714285714286, 0.7821428571428571, 0.7428571428571429, 0.7071428571428572, 0.75, 0.7857142857142857, 0.7464285714285714, 0.7642857142857142, 0.7642857142857142, 0.7857142857142857, 0.75, 0.7714285714285715, 0.7142857142857143, 0.8074534161490683, 0.7950310559006211, 0.8260869565217391, 0.782608695652174, 0.8012422360248447, 0.7701863354037267, 0.7453416149068323, 0.7763975155279503, 0.7577639751552795, 0.782608695652174, 0.7888198757763976, 0.8198757763975155, 0.7950310559006211, 0.7701863354037267, 0.7701863354037267, 0.7391304347826086, 0.8012422360248447, 0.84472049689441, 0.8260869565217391, 0.8012422360248447, 0.8260869565217391, 0.7453416149068323, 0.8136645962732919, 0.8385093167701864, 0.8322981366459627, 0.8571428571428571, 0.84472049689441, 0.8198757763975155, 0.8633540372670807, 0.8198757763975155, 0.8385093167701864, 0.8322981366459627, 0.8198757763975155, 0.8198757763975155, 0.8509316770186336, 0.84472049689441, 0.8260869565217391, 0.8074534161490683, 0.8198757763975155, 0.8571428571428571, 0.8509316770186336, 0.8633540372670807, 0.8633540372670807, 0.8633540372670807, 0.8385093167701864, 0.8136645962732919, 0.7916666666666666, 0.8273809523809523, 0.7916666666666666, 0.8095238095238095, 0.8154761904761905, 0.8273809523809523, 0.7678571428571429, 0.8095238095238095, 0.7916666666666666, 0.7976190476190477, 0.7797619047619048, 0.8273809523809523, 0.8273809523809523, 0.8154761904761905, 0.8035714285714286, 0.7976190476190477, 0.8154761904761905, 0.8095238095238095, 0.8392857142857143, 0.7797619047619048, 0.7916666666666666, 0.7976190476190477, 0.8095238095238095, 0.8035714285714286, 0.8367346938775511, 0.8571428571428571, 0.8163265306122449, 0.8299319727891157, 0.8299319727891157, 0.8027210884353742, 0.8639455782312925, 0.8095238095238095, 0.8231292517006803, 0.8027210884353742, 0.7687074829931972, 0.8163265306122449, 0.8163265306122449, 0.8163265306122449, 0.8231292517006803, 0.8435374149659864, 0.8163265306122449, 0.8027210884353742, 0.8299319727891157, 0.8571428571428571, 0.8639455782312925, 0.7701863354037267, 0.7639751552795031, 0.7515527950310559, 0.7391304347826086, 0.7950310559006211, 0.8074534161490683, 0.7515527950310559, 0.7763975155279503, 0.7391304347826086, 0.7763975155279503, 0.7639751552795031, 0.7701863354037267, 0.8012422360248447, 0.8198757763975155, 0.7763975155279503, 0.7577639751552795, 0.7391304347826086, 0.7453416149068323, 0.7888198757763976, 0.7577639751552795, 0.7142857142857143, 0.7391304347826086, 0.7763975155279503, 0.8766233766233766, 0.8896103896103896, 0.8896103896103896, 0.8831168831168831, 0.8766233766233766, 0.8701298701298701, 0.8636363636363636, 0.8896103896103896, 0.8831168831168831, 0.922077922077922, 0.9025974025974026, 0.8831168831168831, 0.8766233766233766, 0.8896103896103896, 0.8766233766233766, 0.8766233766233766, 0.8961038961038961, 0.8701298701298701, 0.9025974025974026, 0.8831168831168831, 0.8961038961038961, 0.9090909090909091, 0.8701298701298701, 0.8896103896103896, 0.8506493506493507, 0.9025974025974026, 0.8506493506493507, 0.8636363636363636, 0.8506493506493507, 0.8766233766233766, 0.8506493506493507, 0.8896103896103896, 0.8766233766233766, 0.8376623376623377, 0.8571428571428571, 0.8766233766233766, 0.8506493506493507, 0.8701298701298701, 0.8961038961038961, 0.8636363636363636, 0.8831168831168831, 0.8831168831168831, 0.8701298701298701, 0.8701298701298701, 0.8027210884353742, 0.8231292517006803, 0.8503401360544217, 0.8299319727891157, 0.8299319727891157, 0.8299319727891157, 0.8367346938775511, 0.8231292517006803, 0.8435374149659864, 0.8299319727891157, 0.8367346938775511, 0.8299319727891157, 0.8775510204081632, 0.8231292517006803, 0.8163265306122449, 0.8435374149659864, 0.7959183673469388, 0.8163265306122449, 0.8095238095238095, 0.8027210884353742, 0.8163265306122449, 0.8322981366459627, 0.8074534161490683, 0.8198757763975155, 0.8012422360248447, 0.8136645962732919, 0.7888198757763976, 0.8198757763975155, 0.8322981366459627, 0.8322981366459627, 0.8012422360248447, 0.8012422360248447, 0.8198757763975155, 0.8012422360248447, 0.8260869565217391, 0.8198757763975155, 0.8322981366459627, 0.8385093167701864, 0.8198757763975155, 0.84472049689441, 0.8198757763975155, 0.7888198757763976, 0.8198757763975155, 0.8136645962732919, 0.8116883116883117, 0.7987012987012987, 0.7987012987012987, 0.7792207792207793, 0.8116883116883117, 0.7987012987012987, 0.8246753246753247, 0.8311688311688312, 0.8311688311688312, 0.8311688311688312, 0.7922077922077922, 0.7857142857142857, 0.7792207792207793, 0.8051948051948052, 0.8246753246753247, 0.8311688311688312, 0.7727272727272727, 0.8116883116883117, 0.8311688311688312, 0.8311688311688312, 0.7987012987012987, 0.7727272727272727, 0.8181818181818182, 0.8051948051948052, 0.8246753246753247, 0.8051948051948052, 0.8311688311688312, 0.8051948051948052, 0.8246753246753247, 0.8506493506493507, 0.8441558441558441, 0.8441558441558441, 0.8246753246753247, 0.8051948051948052, 0.7857142857142857, 0.8116883116883117, 0.8376623376623377, 0.8506493506493507, 0.7727272727272727, 0.8441558441558441, 0.8701298701298701, 0.8116883116883117, 0.8246753246753247, 0.7857142857142857, 0.8714285714285714, 0.8714285714285714, 0.8857142857142857, 0.8714285714285714, 0.9142857142857143, 0.8857142857142857, 0.8285714285714286, 0.8428571428571429, 0.8857142857142857, 0.8857142857142857, 0.8142857142857143, 0.8, 0.8857142857142857, 0.8285714285714286, 0.8714285714285714, 0.8428571428571429, 0.8, 0.8428571428571429, 0.8571428571428571, 0.8428571428571429, 0.8428571428571429, 0.8142857142857143, 0.8714285714285714, 0.8571428571428571, 0.8428571428571429, 0.8571428571428571, 0.8714285714285714, 0.8857142857142857, 0.9, 0.8857142857142857, 0.8412698412698413, 0.9047619047619048, 0.873015873015873, 0.873015873015873, 0.8253968253968254, 0.8253968253968254, 0.8412698412698413, 0.873015873015873, 0.873015873015873, 0.873015873015873, 0.7777777777777778, 0.7936507936507936, 0.8253968253968254, 0.7936507936507936, 0.8253968253968254, 0.8412698412698413, 0.8571428571428571, 0.8412698412698413, 0.8571428571428571, 0.8095238095238095, 0.8095238095238095, 0.873015873015873, 0.8095238095238095, 0.8253968253968254, 0.8095238095238095, 0.8412698412698413, 0.8571428571428571, 0.8120300751879699, 0.8120300751879699, 0.8345864661654135, 0.8345864661654135, 0.8421052631578947, 0.849624060150376, 0.8345864661654135, 0.8421052631578947, 0.849624060150376, 0.8345864661654135, 0.8270676691729323, 0.8270676691729323, 0.8646616541353384, 0.8345864661654135, 0.8571428571428571, 0.8345864661654135, 0.8270676691729323, 0.7819548872180451, 0.8195488721804511, 0.7894736842105263, 0.7969924812030075, 0.7894736842105263, 0.8120300751879699, 0.8120300751879699, 0.8345864661654135, 0.8421052631578947, 0.8270676691729323, 0.8120300751879699, 0.8120300751879699, 0.8045112781954887, 0.7593984962406015, 0.8270676691729323, 0.8045112781954887, 0.7819548872180451, 0.7969924812030075, 0.7894736842105263, 0.7969924812030075, 0.7894736842105263, 0.7551020408163265, 0.7551020408163265, 0.7959183673469388, 0.8095238095238095, 0.782312925170068, 0.8163265306122449, 0.782312925170068, 0.7619047619047619, 0.7619047619047619, 0.7619047619047619, 0.782312925170068, 0.7959183673469388, 0.7619047619047619, 0.8027210884353742, 0.7891156462585034, 0.7482993197278912, 0.7482993197278912, 0.7687074829931972, 0.7755102040816326, 0.8163265306122449, 0.782312925170068, 0.8311688311688312, 0.8116883116883117, 0.8116883116883117, 0.8246753246753247, 0.7922077922077922, 0.7987012987012987, 0.8376623376623377, 0.8441558441558441, 0.7597402597402597, 0.7922077922077922, 0.7857142857142857, 0.8246753246753247, 0.8246753246753247, 0.8116883116883117, 0.7857142857142857, 0.8311688311688312, 0.8246753246753247, 0.8246753246753247, 0.8506493506493507, 0.8376623376623377, 0.8181818181818182, 0.7727272727272727, 0.782312925170068, 0.7891156462585034, 0.7687074829931972, 0.8095238095238095, 0.8095238095238095, 0.8299319727891157, 0.7959183673469388, 0.8367346938775511, 0.8027210884353742, 0.8027210884353742, 0.7482993197278912, 0.7755102040816326, 0.7959183673469388, 0.8027210884353742, 0.7891156462585034, 0.782312925170068, 0.782312925170068, 0.8027210884353742, 0.7551020408163265, 0.7755102040816326, 0.7755102040816326, 0.7755102040816326, 0.7959183673469388, 0.7687074829931972, 0.7959183673469388, 0.7687074829931972, 0.8027210884353742, 0.7891156462585034, 0.7891156462585034, 0.7959183673469388, 0.8027210884353742, 0.7687074829931972, 0.7687074829931972, 0.7891156462585034, 0.7891156462585034, 0.7891156462585034, 0.782312925170068, 0.7891156462585034, 0.7891156462585034, 0.7755102040816326, 0.7687074829931972, 0.7482993197278912, 0.5714285714285714, 0.6571428571428571, 0.6571428571428571, 0.6, 0.6571428571428571, 0.7142857142857143, 0.6785714285714286, 0.75, 0.7142857142857143, 0.5714285714285714, 0.6666666666666666, 0.47619047619047616, 0.8285714285714286, 0.7142857142857143, 0.8, 0.7142857142857143, 0.8, 0.8571428571428571, 0.7428571428571429, 0.8, 0.7428571428571429, 0.8285714285714286, 0.8571428571428571, 0.7428571428571429, 0.8, 0.7428571428571429, 0.8571428571428571, 0.8809523809523809, 0.8095238095238095, 0.8095238095238095, 0.8333333333333334, 0.8809523809523809, 0.8571428571428571, 0.7321428571428571, 0.7321428571428571, 0.75, 0.7678571428571429, 0.7142857142857143, 0.6785714285714286, 0.7678571428571429, 0.7321428571428571, 0.7619047619047619, 0.8095238095238095, 0.8253968253968254, 0.7777777777777778, 0.7619047619047619, 0.7619047619047619, 0.8095238095238095, 0.7619047619047619, 0.7936507936507936, 0.6493506493506493, 0.6753246753246753, 0.7142857142857143, 0.7012987012987013, 0.7012987012987013, 0.6363636363636364, 0.7272727272727273, 0.7012987012987013, 0.6883116883116883, 0.6883116883116883, 0.6883116883116883, 0.6, 0.5428571428571428, 0.5714285714285714, 0.5142857142857142, 0.6, 0.5857142857142857, 0.5714285714285714, 0.5714285714285714, 0.5, 0.5714285714285714, 0.625, 0.5, 0.5892857142857143, 0.6428571428571429, 0.625, 0.6071428571428571, 0.6428571428571429, 0.625, 0.5510204081632653, 0.5714285714285714, 0.5510204081632653, 0.5714285714285714, 0.673469387755102, 0.5918367346938775, 0.5918367346938775, 0.6530612244897959, 0.5714285714285714, 0.5918367346938775, 0.5918367346938775, 0.5918367346938775, 0.6122448979591837, 0.6122448979591837, 0.8095238095238095, 0.8253968253968254, 0.8333333333333334, 0.8253968253968254, 0.8015873015873016, 0.8095238095238095, 0.8015873015873016, 0.8095238095238095, 0.8174603174603174, 0.8095238095238095, 0.8095238095238095, 0.8015873015873016, 0.8333333333333334, 0.8333333333333334, 0.8095238095238095, 0.8492063492063492, 0.8015873015873016, 0.8412698412698413, 0.8571428571428571, 0.8991596638655462, 0.8991596638655462, 0.865546218487395, 0.8235294117647058, 0.8403361344537815, 0.865546218487395, 0.8403361344537815, 0.8403361344537815, 0.8487394957983193, 0.865546218487395, 0.907563025210084, 0.8487394957983193, 0.8487394957983193, 0.8739495798319328, 0.8487394957983193, 0.8487394957983193, 0.8650793650793651, 0.8571428571428571, 0.8174603174603174, 0.8333333333333334, 0.8253968253968254, 0.8253968253968254, 0.8412698412698413, 0.8015873015873016, 0.8253968253968254, 0.7936507936507936, 0.8650793650793651, 0.8412698412698413, 0.8333333333333334, 0.8333333333333334, 0.8412698412698413, 0.8333333333333334, 0.8412698412698413, 0.8333333333333334, 0.8492063492063492, 0.8650793650793651, 0.8333333333333334, 0.873015873015873, 0.8253968253968254, 0.8333333333333334, 0.8571428571428571, 0.8492063492063492, 0.8333333333333334, 0.8492063492063492, 0.8412698412698413, 0.8174603174603174, 0.8492063492063492, 0.8253968253968254, 0.8412698412698413, 0.8333333333333334, 0.8333333333333334, 0.8253968253968254, 0.873015873015873, 0.8809523809523809, 0.8412698412698413, 0.8968253968253969, 0.8650793650793651, 0.8492063492063492, 0.8571428571428571, 0.873015873015873, 0.8571428571428571, 0.873015873015873, 0.8888888888888888, 0.8492063492063492, 0.8412698412698413, 0.8571428571428571, 0.8571428571428571, 0.8492063492063492, 0.873015873015873, 0.8650793650793651, 0.8650793650793651, 0.873015873015873, 0.8571428571428571, 0.8888888888888888, 0.8571428571428571, 0.8253968253968254, 0.8571428571428571, 0.8492063492063492, 0.8412698412698413, 0.8412698412698413, 0.8809523809523809, 0.8333333333333334, 0.8412698412698413, 0.8492063492063492, 0.8492063492063492, 0.8333333333333334, 0.8571428571428571, 0.8650793650793651, 0.8142857142857143, 0.7571428571428571, 0.7285714285714285, 0.7285714285714285, 0.7, 0.8, 0.6857142857142857, 0.7714285714285715, 0.7285714285714285, 0.7428571428571429, 0.7428571428571429, 0.7142857142857143, 0.6857142857142857, 0.7142857142857143, 0.7, 0.7857142857142857, 0.6857142857142857, 0.7428571428571429, 0.6714285714285714, 0.6571428571428571, 0.7857142857142857, 0.7714285714285715, 0.7142857142857143, 0.7142857142857143, 0.7571428571428571, 0.7714285714285715, 0.7, 0.7857142857142857, 0.7, 0.7428571428571429, 0.7619047619047619, 0.7142857142857143, 0.6507936507936508, 0.6984126984126984, 0.746031746031746, 0.7142857142857143, 0.7142857142857143, 0.7301587301587301, 0.7301587301587301, 0.746031746031746, 0.746031746031746, 0.7301587301587301, 0.7142857142857143, 0.7619047619047619, 0.7777777777777778, 0.7619047619047619, 0.6984126984126984, 0.7619047619047619, 0.7662337662337663, 0.6883116883116883, 0.7402597402597403, 0.7272727272727273, 0.7402597402597403, 0.7532467532467533, 0.7402597402597403, 0.7532467532467533, 0.7012987012987013, 0.6753246753246753, 0.7532467532467533, 0.8285714285714286, 0.8476190476190476, 0.8476190476190476, 0.8571428571428571, 0.819047619047619, 0.8380952380952381, 0.8476190476190476, 0.8476190476190476, 0.8571428571428571, 0.8571428571428571, 0.8666666666666667, 0.8761904761904762, 0.8380952380952381, 0.8476190476190476, 0.8761904761904762, 0.8095238095238095, 0.8476190476190476, 0.8285714285714286, 0.8476190476190476, 0.8095238095238095, 0.8476190476190476, 0.8571428571428571, 0.8380952380952381, 0.8476190476190476, 0.8476190476190476, 0.8571428571428571, 0.8761904761904762, 0.8380952380952381, 0.8380952380952381, 0.8761904761904762, 0.8095238095238095, 0.8476190476190476, 0.8285714285714286, 0.8476190476190476, 0.8095238095238095, 0.8476190476190476, 0.8571428571428571, 0.8380952380952381, 0.8476190476190476, 0.8476190476190476, 0.8571428571428571, 0.8761904761904762, 0.8380952380952381, 0.8380952380952381, 0.8761904761904762, 0.8285714285714286, 0.8571428571428571, 0.8476190476190476, 0.8666666666666667, 0.819047619047619, 0.8380952380952381, 0.8857142857142857, 0.8571428571428571, 0.8571428571428571, 0.8476190476190476, 0.8571428571428571, 0.8666666666666667, 0.8476190476190476, 0.8476190476190476, 0.8952380952380953, 0.8163265306122449, 0.826530612244898, 0.8469387755102041, 0.8061224489795918, 0.8469387755102041, 0.826530612244898, 0.8775510204081632, 0.7857142857142857, 0.8061224489795918, 0.8061224489795918, 0.7959183673469388, 0.8061224489795918, 0.826530612244898, 0.7959183673469388, 0.8163265306122449, 0.826530612244898, 0.8469387755102041, 0.8061224489795918, 0.8469387755102041, 0.826530612244898, 0.8775510204081632, 0.7857142857142857, 0.8061224489795918, 0.8061224489795918, 0.7959183673469388, 0.8061224489795918, 0.826530612244898, 0.7959183673469388, 0.8571428571428571, 0.8241758241758241, 0.7912087912087912, 0.8131868131868132, 0.8461538461538461, 0.8131868131868132, 0.8681318681318682, 0.8461538461538461, 0.8461538461538461, 0.8571428571428571, 0.8241758241758241, 0.8571428571428571, 0.8571428571428571, 0.8791208791208791, 0.8461538461538461, 0.8241758241758241, 0.8461538461538461, 0.8351648351648352, 0.8571428571428571, 0.9010989010989011, 0.8791208791208791, 0.8571428571428571, 0.8791208791208791, 0.8131868131868132, 0.8571428571428571, 0.8241758241758241, 0.8131868131868132, 0.8351648351648352, 0.7802197802197802, 0.8131868131868132, 0.8351648351648352, 0.8131868131868132, 0.8681318681318682, 0.8241758241758241, 0.8351648351648352, 0.8571428571428571, 0.8901098901098901, 0.8681318681318682, 0.8021978021978022, 0.8673469387755102, 0.826530612244898, 0.9081632653061225, 0.826530612244898, 0.8061224489795918, 0.826530612244898, 0.8775510204081632, 0.826530612244898, 0.826530612244898, 0.8673469387755102, 0.8163265306122449, 0.8775510204081632, 0.8571428571428571, 0.8775510204081632, 0.8461538461538461, 0.8351648351648352, 0.8571428571428571, 0.8351648351648352, 0.8351648351648352, 0.8681318681318682, 0.8571428571428571, 0.8021978021978022, 0.8571428571428571, 0.8131868131868132, 0.8461538461538461, 0.8241758241758241, 0.8571428571428571, 0.8351648351648352, 0.8461538461538461, 0.8571428571428571, 0.8241758241758241, 0.8351648351648352, 0.8461538461538461, 0.8461538461538461, 0.7912087912087912, 0.8461538461538461, 0.8681318681318682, 0.8021978021978022, 0.8021978021978022, 0.8241758241758241, 0.8035714285714286, 0.7946428571428571, 0.7946428571428571, 0.7767857142857143, 0.7857142857142857, 0.8125, 0.8035714285714286, 0.7589285714285714, 0.7767857142857143, 0.7946428571428571, 0.7678571428571429, 0.7946428571428571, 0.8125, 0.7946428571428571, 0.7946428571428571, 0.7857142857142857, 0.8214285714285714, 0.8482142857142857, 0.8660714285714286, 0.8214285714285714, 0.8303571428571429, 0.875, 0.8571428571428571, 0.8214285714285714, 0.8392857142857143, 0.8125, 0.8571428571428571, 0.8392857142857143, 0.8392857142857143, 0.8839285714285714, 0.8392857142857143, 0.8035714285714286, 0.8214285714285714, 0.8214285714285714, 0.7946428571428571, 0.8392857142857143, 0.8482142857142857, 0.8482142857142857, 0.8035714285714286, 0.8035714285714286, 0.8214285714285714, 0.8214285714285714, 0.8392857142857143, 0.8214285714285714, 0.8214285714285714, 0.8571428571428571, 0.8303571428571429, 0.8125, 0.8482142857142857, 0.8214285714285714, 0.8392857142857143, 0.8125, 0.8214285714285714, 0.8571428571428571, 0.875, 0.8125, 0.8571428571428571, 0.8214285714285714, 0.8214285714285714, 0.8214285714285714, 0.8035714285714286, 0.8571428571428571, 0.8482142857142857, 0.8303571428571429, 0.8380952380952381, 0.8571428571428571, 0.8761904761904762, 0.8857142857142857, 0.8571428571428571, 0.8380952380952381, 0.8952380952380953, 0.8857142857142857, 0.8380952380952381, 0.8380952380952381, 0.8380952380952381, 0.8380952380952381, 0.8380952380952381, 0.8666666666666667, 0.8285714285714286, 0.8, 0.819047619047619, 0.780952380952381, 0.819047619047619, 0.8476190476190476, 0.7619047619047619, 0.8285714285714286, 0.8, 0.8095238095238095, 0.8095238095238095, 0.8, 0.8285714285714286, 0.8, 0.8285714285714286, 0.8, 0.7928571428571428, 0.8142857142857143, 0.7642857142857142, 0.7928571428571428, 0.7785714285714286, 0.8428571428571429, 0.8214285714285714, 0.8, 0.8142857142857143, 0.8142857142857143, 0.8071428571428572, 0.7785714285714286, 0.7785714285714286, 0.75, 0.8, 0.7285714285714285, 0.8, 0.7714285714285715, 0.7642857142857142, 0.7785714285714286, 0.7, 0.7357142857142858, 0.7142857142857143, 0.7071428571428572, 0.7214285714285714, 0.75, 0.75, 0.7428571428571429, 0.7571428571428571, 0.7428571428571429, 0.7357142857142858, 0.7214285714285714, 0.7285714285714285, 0.7428571428571429, 0.7, 0.7428571428571429, 0.7285714285714285, 0.7357142857142858, 0.7285714285714285, 0.7, 0.75, 0.7285714285714285, 0.7142857142857143, 0.6928571428571428, 0.7071428571428572, 0.7428571428571429, 0.7071428571428572, 0.7071428571428572, 0.6785714285714286, 0.7214285714285714, 0.75, 0.7785714285714286, 0.7571428571428571, 0.7285714285714285, 0.7714285714285715, 0.7, 0.7285714285714285, 0.7571428571428571, 0.7642857142857142, 0.6857142857142857, 0.8285714285714286, 0.8285714285714286, 0.8714285714285714, 0.8428571428571429, 0.8214285714285714, 0.8142857142857143, 0.8214285714285714, 0.8, 0.8642857142857143, 0.7928571428571428, 0.7928571428571428, 0.7857142857142857, 0.8357142857142857, 0.75, 0.7785714285714286, 0.75, 0.7428571428571429, 0.8, 0.8, 0.8142857142857143, 0.85, 0.8571428571428571, 0.8928571428571429, 0.8571428571428571, 0.8357142857142857, 0.8428571428571429, 0.85, 0.8357142857142857, 0.8571428571428571, 0.8214285714285714, 0.8142857142857143, 0.8285714285714286, 0.8642857142857143, 0.7785714285714286, 0.8071428571428572, 0.7785714285714286, 0.7785714285714286, 0.8428571428571429, 0.8357142857142857, 0.8642857142857143, 0.8357142857142857, 0.8428571428571429, 0.8714285714285714, 0.8428571428571429, 0.8, 0.8142857142857143, 0.8357142857142857, 0.8428571428571429, 0.8285714285714286, 0.7928571428571428, 0.8071428571428572, 0.8, 0.8357142857142857, 0.7642857142857142, 0.7785714285714286, 0.7571428571428571, 0.7714285714285715, 0.8357142857142857, 0.8142857142857143, 0.85, 0.7857142857142857, 0.7767857142857143, 0.8035714285714286, 0.7321428571428571, 0.7678571428571429, 0.7946428571428571, 0.7678571428571429, 0.7410714285714286, 0.8214285714285714, 0.8035714285714286, 0.7946428571428571, 0.8660714285714286, 0.8035714285714286, 0.8303571428571429, 0.7767857142857143, 0.7857142857142857, 0.7946428571428571, 0.7678571428571429, 0.8125, 0.7321428571428571, 0.7589285714285714, 0.8035714285714286, 0.7589285714285714, 0.7410714285714286, 0.8303571428571429, 0.8035714285714286, 0.8035714285714286, 0.8571428571428571, 0.8125, 0.8392857142857143, 0.7589285714285714, 0.8125, 0.7946428571428571, 0.7767857142857143, 0.7678571428571429, 0.7589285714285714, 0.8214285714285714, 0.7946428571428571, 0.8125, 0.7589285714285714, 0.8214285714285714, 0.7678571428571429, 0.75, 0.7589285714285714, 0.7857142857142857, 0.7410714285714286, 0.8125, 0.7946428571428571, 0.7946428571428571, 0.7767857142857143, 0.7678571428571429, 0.7589285714285714, 0.8214285714285714, 0.7946428571428571, 0.8125, 0.7589285714285714, 0.8214285714285714, 0.7678571428571429, 0.75, 0.7589285714285714, 0.7857142857142857, 0.7410714285714286, 0.8125, 0.7946428571428571, 0.7714285714285715, 0.7714285714285715, 0.7428571428571429, 0.780952380952381, 0.7428571428571429, 0.819047619047619, 0.7714285714285715, 0.819047619047619, 0.819047619047619, 0.8285714285714286, 0.8, 0.780952380952381, 0.7904761904761904, 0.7619047619047619, 0.7904761904761904, 0.8, 0.8380952380952381, 0.7714285714285715, 0.7619047619047619, 0.7714285714285715, 0.7714285714285715, 0.780952380952381, 0.7619047619047619, 0.780952380952381, 0.8095238095238095, 0.819047619047619, 0.819047619047619, 0.8285714285714286, 0.8, 0.7904761904761904]\n"
          ],
          "name": "stdout"
        }
      ]
    },
    {
      "cell_type": "markdown",
      "metadata": {
        "id": "2tLPOuQ2z1b8"
      },
      "source": [
        "Hierna wordt de distributie bekeken van alle planningen, in welke range de meeste planningen liggen etc. Dit met als doel om een beter zicht te krijgen op de behaalde resultaten en de juiste conclusies te kunnen nemen."
      ]
    },
    {
      "cell_type": "code",
      "metadata": {
        "id": "bp2J37v7Ptm6"
      },
      "source": [
        "procenten.sort()\n",
        "plot_x = []\n",
        "\n",
        "for i in range(len(procenten)):\n",
        "  plot_x.append(i)\n",
        "\n",
        "plt.plot(plot_x, procenten)\n",
        "plt.title('Model Accuracy')\n",
        "plt.ylabel('Accuracy')\n",
        "plt.xlabel('Index')\n",
        "plt.legend(['Accuracy'], loc='upper left')\n",
        "plt.show()"
      ],
      "execution_count": null,
      "outputs": []
    },
    {
      "cell_type": "code",
      "metadata": {
        "colab": {
          "base_uri": "https://localhost:8080/",
          "height": 295
        },
        "id": "UDglBaZtIich",
        "outputId": "24a1a489-2197-4e95-de64-8bada7ddecbd"
      },
      "source": [
        "import math\n",
        "\n",
        "x_array = []\n",
        "y_array = []\n",
        "\n",
        "previous_procent = 0.0\n",
        "count = 0\n",
        "\n",
        "for procent in procenten:\n",
        "  pr = math.floor(procent * 100.0)\n",
        "  \n",
        "  if pr > previous_procent:\n",
        "    x_array.append(previous_procent)\n",
        "    y_array.append(count)\n",
        "\n",
        "    previous_procent = pr\n",
        "    count = 1\n",
        "  else:\n",
        "    count += 1\n",
        "\n",
        "plt.plot(x_array[1:], y_array[1:])\n",
        "plt.title('Model Accuracy')\n",
        "plt.ylabel('Count')\n",
        "plt.xlabel('Accuracy')\n",
        "plt.legend(['Accuracy'], loc='upper left')\n",
        "plt.show()"
      ],
      "execution_count": null,
      "outputs": [
        {
          "output_type": "display_data",
          "data": {
            "image/png": "[encoded data removed]",
            "text/plain": [
              "<Figure size 432x288 with 1 Axes>"
            ]
          },
          "metadata": {
            "tags": [],
            "needs_background": "light"
          }
        }
      ]
    },
    {
      "cell_type": "markdown",
      "metadata": {
        "id": "1rjXWGpx0C-i"
      },
      "source": [
        "Het laatste stukje is enkel van toepassing bij de analyse naar wat de ENCODER van het netwerk juist genereert."
      ]
    },
    {
      "cell_type": "code",
      "metadata": {
        "id": "YXY2G2P2r-2x"
      },
      "source": [
        "enc = Model(inputs=new_model.inputs, outputs=new_model.layers[6].output)"
      ],
      "execution_count": 23,
      "outputs": []
    },
    {
      "cell_type": "code",
      "metadata": {
        "id": "bn8VQi9asCwc"
      },
      "source": [
        "# In het geval de encoder apart moet opgeslagen worden\n",
        "new_model.save(\"Model.h5\")\n",
        "enc.save(\"Encoder.h5\")"
      ],
      "execution_count": null,
      "outputs": []
    },
    {
      "cell_type": "code",
      "metadata": {
        "id": "evrP2kY5wLDt"
      },
      "source": [
        "Pred_enc = enc.predict(X_test)"
      ],
      "execution_count": 24,
      "outputs": []
    },
    {
      "cell_type": "code",
      "metadata": {
        "colab": {
          "base_uri": "https://localhost:8080/"
        },
        "id": "m6IRg4ilsEpm",
        "outputId": "680467dc-f8d5-4ac9-ab90-ed85df6c0a02"
      },
      "source": [
        "# De output vector is hetzelfde voor alle tijdstippen\n",
        "print(Pred_enc[0][0])"
      ],
      "execution_count": 28,
      "outputs": [
        {
          "output_type": "stream",
          "text": [
            "[-0.0331795  -0.0654391  -0.04613594  0.08098157  0.00275483 -0.05341297\n",
            " -0.03279207 -0.1111484  -0.02651988  0.01819679 -0.02996738  0.14611325\n",
            "  0.16981038  0.01548766 -0.03039786 -0.21366401  0.1879163   0.02801559\n",
            " -0.00210228  0.19499552  0.00317754 -0.12742525 -0.03444137 -0.04644236\n",
            " -0.16228913 -0.0286677   0.00725877 -0.02060806  0.03299914  0.05334417\n",
            " -0.11790235 -0.01747469  0.08827741 -0.09290799  0.17746542  0.06048648\n",
            " -0.02098076  0.067679    0.05943598  0.01994737 -0.01586227  0.3274077\n",
            " -0.08089796  0.09652061  0.01454173  0.01014467 -0.01393649  0.07418494\n",
            "  0.03396707 -0.03612947  0.02144128  0.04622207  0.04806399  0.00312421\n",
            "  0.03577281  0.00606223 -0.0695929   0.05596629  0.03692439  0.14334564\n",
            " -0.00788893 -0.09206942  0.06999373 -0.0108708  -0.11494736 -0.00924975\n",
            " -0.26191533 -0.01466332  0.14741266  0.00351043 -0.03311801  0.0580795\n",
            "  0.00850669  0.1315696  -0.03915621  0.08803708  0.04263645  0.12944357\n",
            " -0.0078047   0.02973285 -0.00979046 -0.07110312 -0.0551667  -0.00516702\n",
            "  0.08947736  0.06135333 -0.09006254 -0.01094816 -0.08322396 -0.03479272]\n"
          ],
          "name": "stdout"
        }
      ]
    }
  ]
}